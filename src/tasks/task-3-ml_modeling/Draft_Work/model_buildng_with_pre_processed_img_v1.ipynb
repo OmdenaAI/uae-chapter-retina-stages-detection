{
  "cells": [
    {
      "cell_type": "code",
      "execution_count": 1,
      "metadata": {
        "execution": {
          "iopub.execute_input": "2022-09-03T14:03:08.413641Z",
          "iopub.status.busy": "2022-09-03T14:03:08.413242Z",
          "iopub.status.idle": "2022-09-03T14:03:14.436511Z",
          "shell.execute_reply": "2022-09-03T14:03:14.435597Z",
          "shell.execute_reply.started": "2022-09-03T14:03:08.413597Z"
        },
        "id": "YKrW_spqY1YB",
        "trusted": true
      },
      "outputs": [],
      "source": [
        "import numpy as np\n",
        "import cv2\n",
        "import os\n",
        "from sklearn.model_selection import train_test_split\n",
        "import matplotlib.pyplot as plt\n",
        "from keras.preprocessing.image import ImageDataGenerator\n",
        "from keras.utils.np_utils import to_categorical\n",
        "from keras.models import Sequential\n",
        "from keras.layers import Dense\n",
        "from tensorflow.keras.optimizers import Adam\n",
        "from keras.layers import Dropout,Flatten\n",
        "from keras.layers.convolutional import Conv2D,MaxPooling2D\n",
        "import pickle\n",
        "import tensorflow as tf\n",
        "from tqdm import tqdm\n",
        "from imblearn.under_sampling import RandomUnderSampler\n",
        "import pandas as pd\n",
        "import seaborn as sns"
      ]
    },
    {
      "cell_type": "markdown",
      "metadata": {
        "id": "-aTIrFJVzGLr"
      },
      "source": [
        "## import drive and GPU"
      ]
    },
    {
      "cell_type": "code",
      "execution_count": 2,
      "metadata": {
        "colab": {
          "base_uri": "https://localhost:8080/"
        },
        "id": "0uwmjyxmCODy",
        "outputId": "146bfc95-f817-447f-be88-1a2fb652df68"
      },
      "outputs": [
        {
          "output_type": "stream",
          "name": "stdout",
          "text": [
            "Drive already mounted at /content/drive; to attempt to forcibly remount, call drive.mount(\"/content/drive\", force_remount=True).\n"
          ]
        }
      ],
      "source": [
        "from google.colab import drive\n",
        "drive.mount('/content/drive')"
      ]
    },
    {
      "cell_type": "code",
      "execution_count": 3,
      "metadata": {
        "colab": {
          "base_uri": "https://localhost:8080/"
        },
        "id": "Fbhzdgj3COKx",
        "outputId": "9a38bdc3-63d9-4111-db76-eb57db41b529"
      },
      "outputs": [
        {
          "output_type": "stream",
          "name": "stdout",
          "text": [
            "Found GPU at: /device:GPU:0\n"
          ]
        }
      ],
      "source": [
        "import tensorflow as tf\n",
        "device_name = tf.test.gpu_device_name()\n",
        "if device_name != '/device:GPU:0':\n",
        "  raise SystemError('GPU device not found')\n",
        "print('Found GPU at: {}'.format(device_name))"
      ]
    },
    {
      "cell_type": "code",
      "execution_count": 4,
      "metadata": {
        "execution": {
          "iopub.execute_input": "2022-09-03T14:03:14.443490Z",
          "iopub.status.busy": "2022-09-03T14:03:14.441423Z",
          "iopub.status.idle": "2022-09-03T14:03:14.450338Z",
          "shell.execute_reply": "2022-09-03T14:03:14.449447Z",
          "shell.execute_reply.started": "2022-09-03T14:03:14.443449Z"
        },
        "id": "sg5jse8LaTsV",
        "trusted": true
      },
      "outputs": [],
      "source": [
        "train_path =\"/content/drive/MyDrive/ML/Preprocess_Results/Train\"\n",
        "test_path =\"/content/drive/MyDrive/ML/Preprocess_Results/Test\"\n",
        "\n",
        "image_size=(128,128,3)"
      ]
    },
    {
      "cell_type": "code",
      "execution_count": 5,
      "metadata": {
        "colab": {
          "base_uri": "https://localhost:8080/"
        },
        "execution": {
          "iopub.execute_input": "2022-09-03T14:03:14.457044Z",
          "iopub.status.busy": "2022-09-03T14:03:14.454579Z",
          "iopub.status.idle": "2022-09-03T14:03:14.474190Z",
          "shell.execute_reply": "2022-09-03T14:03:14.473456Z",
          "shell.execute_reply.started": "2022-09-03T14:03:14.457007Z"
        },
        "id": "ufsmf55TZBXQ",
        "outputId": "3bf82d21-6c0b-41ab-cf34-f3ee784ac9ff",
        "trusted": true
      },
      "outputs": [
        {
          "output_type": "execute_result",
          "data": {
            "text/plain": [
              "['DME', 'Normal']"
            ]
          },
          "metadata": {},
          "execution_count": 5
        }
      ],
      "source": [
        "category_list = os.listdir(train_path)\n",
        "category_list"
      ]
    },
    {
      "cell_type": "code",
      "execution_count": 6,
      "metadata": {
        "execution": {
          "iopub.execute_input": "2022-09-03T14:03:14.480449Z",
          "iopub.status.busy": "2022-09-03T14:03:14.478035Z",
          "iopub.status.idle": "2022-09-03T14:03:14.485723Z",
          "shell.execute_reply": "2022-09-03T14:03:14.484963Z",
          "shell.execute_reply.started": "2022-09-03T14:03:14.480412Z"
        },
        "id": "VgP9cRUOag0E",
        "trusted": true
      },
      "outputs": [],
      "source": [
        "number_of_classes= len(category_list)"
      ]
    },
    {
      "cell_type": "markdown",
      "metadata": {
        "id": "p8M6gthSzGL0"
      },
      "source": [
        "# get the images"
      ]
    },
    {
      "cell_type": "code",
      "execution_count": 7,
      "metadata": {
        "execution": {
          "iopub.execute_input": "2022-09-03T14:03:14.494242Z",
          "iopub.status.busy": "2022-09-03T14:03:14.491978Z",
          "iopub.status.idle": "2022-09-03T14:03:14.503607Z",
          "shell.execute_reply": "2022-09-03T14:03:14.502803Z",
          "shell.execute_reply.started": "2022-09-03T14:03:14.494205Z"
        },
        "id": "hLVNvWR7BrlU",
        "trusted": true
      },
      "outputs": [],
      "source": [
        "def get_image_list(path, categories):\n",
        "    images=[]\n",
        "    class_num=[]\n",
        "    for cat in (categories):\n",
        "        img_list = os.listdir(path +'/'+cat)\n",
        "        for img in tqdm(img_list):\n",
        "            im = cv2.imread(path +'/'+cat+\"/\"+img)\n",
        "            im = cv2.resize(im, (image_size[0], image_size[1]))\n",
        "            images.append(im)\n",
        "            class_num.append(categories.index(cat))\n",
        "    return images, class_num"
      ]
    },
    {
      "cell_type": "code",
      "execution_count": 8,
      "metadata": {
        "colab": {
          "base_uri": "https://localhost:8080/"
        },
        "execution": {
          "iopub.execute_input": "2022-09-03T14:03:14.511514Z",
          "iopub.status.busy": "2022-09-03T14:03:14.509298Z",
          "iopub.status.idle": "2022-09-03T14:19:28.290431Z",
          "shell.execute_reply": "2022-09-03T14:19:28.289536Z",
          "shell.execute_reply.started": "2022-09-03T14:03:14.511476Z"
        },
        "id": "iswB5dooam5A",
        "outputId": "b0d55165-7af8-4e3c-ddba-46710660b11c",
        "trusted": true
      },
      "outputs": [
        {
          "output_type": "stream",
          "name": "stderr",
          "text": [
            "100%|██████████| 1029/1029 [00:05<00:00, 181.13it/s]\n",
            "100%|██████████| 1200/1200 [00:05<00:00, 200.34it/s]\n",
            "100%|██████████| 42/42 [00:00<00:00, 250.80it/s]\n",
            "100%|██████████| 42/42 [00:00<00:00, 245.22it/s]\n"
          ]
        }
      ],
      "source": [
        "x_train, y_train = get_image_list(train_path, ['Normal',\"DME\"])\n",
        "x_val, y_val = get_image_list(test_path, ['Normal',\"DME\"])"
      ]
    },
    {
      "cell_type": "code",
      "execution_count": 9,
      "metadata": {
        "colab": {
          "base_uri": "https://localhost:8080/"
        },
        "execution": {
          "iopub.execute_input": "2022-09-03T14:19:28.292477Z",
          "iopub.status.busy": "2022-09-03T14:19:28.291909Z",
          "iopub.status.idle": "2022-09-03T14:19:28.299711Z",
          "shell.execute_reply": "2022-09-03T14:19:28.298784Z",
          "shell.execute_reply.started": "2022-09-03T14:19:28.292435Z"
        },
        "id": "Dp6l2OpNcJ3C",
        "outputId": "f89a13d1-31ed-47c0-c58a-2f0b1a23655a",
        "trusted": true
      },
      "outputs": [
        {
          "output_type": "stream",
          "name": "stdout",
          "text": [
            "2229 2229 84 84\n"
          ]
        }
      ],
      "source": [
        "print(len(x_train), len(y_train), len(x_val), len(y_val))"
      ]
    },
    {
      "cell_type": "markdown",
      "metadata": {
        "id": "ALx-2TubzGL7"
      },
      "source": [
        "# Get test set \n",
        "- current test set used as validation set"
      ]
    },
    {
      "cell_type": "code",
      "execution_count": 10,
      "metadata": {
        "id": "qq0s67X_GyK-"
      },
      "outputs": [],
      "source": [
        "from sklearn.model_selection import train_test_split\n",
        "x_train, x_test, y_train, y_test = train_test_split(x_train, y_train, test_size=0.3, random_state=42)"
      ]
    },
    {
      "cell_type": "code",
      "execution_count": 11,
      "metadata": {
        "execution": {
          "iopub.execute_input": "2022-09-03T14:19:28.301507Z",
          "iopub.status.busy": "2022-09-03T14:19:28.301057Z",
          "iopub.status.idle": "2022-09-03T14:19:32.865194Z",
          "shell.execute_reply": "2022-09-03T14:19:32.864436Z",
          "shell.execute_reply.started": "2022-09-03T14:19:28.301471Z"
        },
        "id": "3n-hJ1LncPzA",
        "trusted": true
      },
      "outputs": [],
      "source": [
        "x_train = np.array(x_train)\n",
        "y_train = np.array(y_train)\n",
        "x_test = np.array(x_test)\n",
        "y_test = np.array(y_test)\n",
        "x_val = np.array(x_val)\n",
        "y_val = np.array(y_val)"
      ]
    },
    {
      "cell_type": "code",
      "execution_count": 12,
      "metadata": {
        "colab": {
          "base_uri": "https://localhost:8080/"
        },
        "execution": {
          "iopub.execute_input": "2022-09-03T14:19:32.866807Z",
          "iopub.status.busy": "2022-09-03T14:19:32.866469Z",
          "iopub.status.idle": "2022-09-03T14:19:32.873292Z",
          "shell.execute_reply": "2022-09-03T14:19:32.871937Z",
          "shell.execute_reply.started": "2022-09-03T14:19:32.866775Z"
        },
        "id": "qyBxyh4VePnT",
        "outputId": "e0fd621b-3524-4761-92aa-9f8a421c4866",
        "trusted": true
      },
      "outputs": [
        {
          "output_type": "stream",
          "name": "stdout",
          "text": [
            "(1560, 128, 128, 3)\n",
            "(669, 128, 128, 3)\n",
            "(84, 128, 128, 3)\n"
          ]
        }
      ],
      "source": [
        "print(x_train.shape)\n",
        "print(x_test.shape)\n",
        "print(x_val.shape)"
      ]
    },
    {
      "cell_type": "code",
      "execution_count": 13,
      "metadata": {
        "execution": {
          "iopub.execute_input": "2022-09-03T14:19:32.875359Z",
          "iopub.status.busy": "2022-09-03T14:19:32.874772Z",
          "iopub.status.idle": "2022-09-03T14:19:32.886769Z",
          "shell.execute_reply": "2022-09-03T14:19:32.885822Z",
          "shell.execute_reply.started": "2022-09-03T14:19:32.875322Z"
        },
        "id": "eWKx2tAMeS_c",
        "trusted": true
      },
      "outputs": [],
      "source": [
        "numofSamples=[]\n",
        "for x in range(0,number_of_classes):\n",
        "    numofSamples.append(len(np.where(y_train==x)[0]))"
      ]
    },
    {
      "cell_type": "code",
      "execution_count": 14,
      "metadata": {
        "colab": {
          "base_uri": "https://localhost:8080/"
        },
        "execution": {
          "iopub.execute_input": "2022-09-03T14:19:32.888998Z",
          "iopub.status.busy": "2022-09-03T14:19:32.888460Z",
          "iopub.status.idle": "2022-09-03T14:19:32.895538Z",
          "shell.execute_reply": "2022-09-03T14:19:32.894692Z",
          "shell.execute_reply.started": "2022-09-03T14:19:32.888961Z"
        },
        "id": "NnjhhsLafRE8",
        "outputId": "8466c924-5199-4fb7-8228-57f075685682",
        "trusted": true
      },
      "outputs": [
        {
          "output_type": "stream",
          "name": "stdout",
          "text": [
            "[709, 851] 709\n"
          ]
        }
      ],
      "source": [
        "print(numofSamples, min(numofSamples))"
      ]
    },
    {
      "cell_type": "code",
      "execution_count": 15,
      "metadata": {
        "id": "WmHF4xRuJPsF"
      },
      "outputs": [],
      "source": [
        "CATEGORIES = ['Normal',\"DME\"]"
      ]
    },
    {
      "cell_type": "markdown",
      "metadata": {
        "id": "u3jT574tzGMA"
      },
      "source": [
        "# Convert images to grayscale"
      ]
    },
    {
      "cell_type": "code",
      "execution_count": 16,
      "metadata": {
        "execution": {
          "iopub.execute_input": "2022-09-03T14:20:00.871455Z",
          "iopub.status.busy": "2022-09-03T14:20:00.871017Z",
          "iopub.status.idle": "2022-09-03T14:20:00.880501Z",
          "shell.execute_reply": "2022-09-03T14:20:00.879139Z",
          "shell.execute_reply.started": "2022-09-03T14:20:00.871414Z"
        },
        "id": "kr4hHdmwggNM",
        "trusted": true
      },
      "outputs": [],
      "source": [
        "def convert_to_gray(img):\n",
        "    img = cv2.cvtColor(img,cv2.COLOR_BGR2GRAY)\n",
        "    return img"
      ]
    },
    {
      "cell_type": "code",
      "execution_count": 17,
      "metadata": {
        "colab": {
          "base_uri": "https://localhost:8080/"
        },
        "execution": {
          "iopub.execute_input": "2022-09-03T14:20:01.622981Z",
          "iopub.status.busy": "2022-09-03T14:20:01.622679Z",
          "iopub.status.idle": "2022-09-03T14:20:02.186144Z",
          "shell.execute_reply": "2022-09-03T14:20:02.185285Z",
          "shell.execute_reply.started": "2022-09-03T14:20:01.622953Z"
        },
        "id": "9LfR2cO_hRqB",
        "outputId": "fa44443b-8173-4998-ad4e-ff4232451358",
        "trusted": true
      },
      "outputs": [
        {
          "output_type": "stream",
          "name": "stdout",
          "text": [
            "(1560, 128, 128) (669, 128, 128) (84, 128, 128)\n"
          ]
        }
      ],
      "source": [
        "x_train = np.array(list(map(convert_to_gray,x_train)))\n",
        "x_test = np.array(list(map(convert_to_gray,x_test)))\n",
        "x_validation = np.array(list(map(convert_to_gray,x_val)))\n",
        "print(x_train.shape, x_test.shape,x_validation.shape)"
      ]
    },
    {
      "cell_type": "markdown",
      "metadata": {
        "id": "bs3Bbu3mzGMC"
      },
      "source": [
        "# Model definition"
      ]
    },
    {
      "cell_type": "code",
      "execution_count": 18,
      "metadata": {
        "execution": {
          "iopub.execute_input": "2022-09-03T14:20:03.822908Z",
          "iopub.status.busy": "2022-09-03T14:20:03.822601Z",
          "iopub.status.idle": "2022-09-03T14:20:03.830501Z",
          "shell.execute_reply": "2022-09-03T14:20:03.829730Z",
          "shell.execute_reply.started": "2022-09-03T14:20:03.822880Z"
        },
        "id": "SBRBlGs4Brlb",
        "trusted": true
      },
      "outputs": [],
      "source": [
        "y_train = to_categorical(y_train,number_of_classes)\n",
        "y_test = to_categorical(y_test,number_of_classes)\n",
        "y_validation = to_categorical(y_val,number_of_classes)"
      ]
    },
    {
      "cell_type": "code",
      "execution_count": 19,
      "metadata": {
        "colab": {
          "base_uri": "https://localhost:8080/"
        },
        "execution": {
          "iopub.execute_input": "2022-09-03T14:20:04.780812Z",
          "iopub.status.busy": "2022-09-03T14:20:04.780464Z",
          "iopub.status.idle": "2022-09-03T14:20:07.154782Z",
          "shell.execute_reply": "2022-09-03T14:20:07.153905Z",
          "shell.execute_reply.started": "2022-09-03T14:20:04.780783Z"
        },
        "id": "MTiQqVUACoDe",
        "outputId": "09a6fe4a-c4e0-4b38-d699-82fed9cc8eb5",
        "trusted": true
      },
      "outputs": [
        {
          "output_type": "stream",
          "name": "stderr",
          "text": [
            "/usr/local/lib/python3.7/dist-packages/keras/optimizer_v2/adam.py:105: UserWarning: The `lr` argument is deprecated, use `learning_rate` instead.\n",
            "  super(Adam, self).__init__(name, **kwargs)\n"
          ]
        }
      ],
      "source": [
        "def model():\n",
        "    filters=60\n",
        "    sizeoffilter1 = (5,5)\n",
        "    sizeoffilter2 = (4,4)\n",
        "    sizeoffilter3 = (3,3)\n",
        "    sizeofpool = (2,2)\n",
        "   \n",
        "\n",
        "    model = Sequential();\n",
        "    model.add((Conv2D(filters,sizeoffilter1,input_shape=(image_size[0],image_size[1],1),activation=\"relu\")))\n",
        "\n",
        "    model.add((Conv2D(filters,sizeoffilter1,activation=\"relu\")))\n",
        "    model.add((Conv2D(filters//2,sizeoffilter2,activation=\"relu\")))\n",
        "    model.add((Conv2D(filters//2,sizeoffilter2,activation=\"relu\")))\n",
        "    model.add(MaxPooling2D(pool_size=sizeofpool))\n",
        "    model.add(Dropout(0.2))\n",
        "\n",
        "    model.add((Conv2D(filters,sizeoffilter1,activation=\"relu\")))\n",
        "    model.add((Conv2D(filters//2,sizeoffilter2,activation=\"relu\")))\n",
        "    model.add((Conv2D(filters//2,sizeoffilter2,activation=\"relu\")))\n",
        "    model.add(MaxPooling2D(pool_size=sizeofpool))\n",
        "    model.add(Dropout(0.2))\n",
        "\n",
        "    model.add((Conv2D(filters,sizeoffilter2,activation=\"relu\")))\n",
        "    model.add(MaxPooling2D(pool_size=sizeofpool))\n",
        "    model.add((Conv2D(filters//2,sizeoffilter3,activation=\"relu\")))\n",
        "    model.add((Conv2D(filters//2,sizeoffilter3,activation=\"relu\")))\n",
        "    model.add(MaxPooling2D(pool_size=sizeofpool))\n",
        "    model.add(Dropout(0.2))\n",
        "\n",
        "    model.add(Flatten())\n",
        "    model.add(Dense(5000,activation=\"relu\"))\n",
        "    model.add(Dropout(0.2))\n",
        "    model.add(Dense(number_of_classes,activation=\"softmax\"))\n",
        "\n",
        "    model.compile(Adam(lr=0.001),loss=\"categorical_crossentropy\",metrics=['accuracy'])\n",
        "\n",
        "    return model\n",
        "  \n",
        "model=model()"
      ]
    },
    {
      "cell_type": "code",
      "execution_count": 20,
      "metadata": {
        "colab": {
          "base_uri": "https://localhost:8080/"
        },
        "execution": {
          "iopub.execute_input": "2022-09-03T14:20:07.156686Z",
          "iopub.status.busy": "2022-09-03T14:20:07.156355Z",
          "iopub.status.idle": "2022-09-03T14:20:07.169271Z",
          "shell.execute_reply": "2022-09-03T14:20:07.167719Z",
          "shell.execute_reply.started": "2022-09-03T14:20:07.156651Z"
        },
        "id": "wou70iF8oB70",
        "outputId": "16cfbad4-a93e-41db-c7d9-90ab8506b6c9",
        "trusted": true
      },
      "outputs": [
        {
          "output_type": "stream",
          "name": "stdout",
          "text": [
            "Model: \"sequential\"\n",
            "_________________________________________________________________\n",
            " Layer (type)                Output Shape              Param #   \n",
            "=================================================================\n",
            " conv2d (Conv2D)             (None, 124, 124, 60)      1560      \n",
            "                                                                 \n",
            " conv2d_1 (Conv2D)           (None, 120, 120, 60)      90060     \n",
            "                                                                 \n",
            " conv2d_2 (Conv2D)           (None, 117, 117, 30)      28830     \n",
            "                                                                 \n",
            " conv2d_3 (Conv2D)           (None, 114, 114, 30)      14430     \n",
            "                                                                 \n",
            " max_pooling2d (MaxPooling2D  (None, 57, 57, 30)       0         \n",
            " )                                                               \n",
            "                                                                 \n",
            " dropout (Dropout)           (None, 57, 57, 30)        0         \n",
            "                                                                 \n",
            " conv2d_4 (Conv2D)           (None, 53, 53, 60)        45060     \n",
            "                                                                 \n",
            " conv2d_5 (Conv2D)           (None, 50, 50, 30)        28830     \n",
            "                                                                 \n",
            " conv2d_6 (Conv2D)           (None, 47, 47, 30)        14430     \n",
            "                                                                 \n",
            " max_pooling2d_1 (MaxPooling  (None, 23, 23, 30)       0         \n",
            " 2D)                                                             \n",
            "                                                                 \n",
            " dropout_1 (Dropout)         (None, 23, 23, 30)        0         \n",
            "                                                                 \n",
            " conv2d_7 (Conv2D)           (None, 20, 20, 60)        28860     \n",
            "                                                                 \n",
            " max_pooling2d_2 (MaxPooling  (None, 10, 10, 60)       0         \n",
            " 2D)                                                             \n",
            "                                                                 \n",
            " conv2d_8 (Conv2D)           (None, 8, 8, 30)          16230     \n",
            "                                                                 \n",
            " conv2d_9 (Conv2D)           (None, 6, 6, 30)          8130      \n",
            "                                                                 \n",
            " max_pooling2d_3 (MaxPooling  (None, 3, 3, 30)         0         \n",
            " 2D)                                                             \n",
            "                                                                 \n",
            " dropout_2 (Dropout)         (None, 3, 3, 30)          0         \n",
            "                                                                 \n",
            " flatten (Flatten)           (None, 270)               0         \n",
            "                                                                 \n",
            " dense (Dense)               (None, 5000)              1355000   \n",
            "                                                                 \n",
            " dropout_3 (Dropout)         (None, 5000)              0         \n",
            "                                                                 \n",
            " dense_1 (Dense)             (None, 2)                 10002     \n",
            "                                                                 \n",
            "=================================================================\n",
            "Total params: 1,641,422\n",
            "Trainable params: 1,641,422\n",
            "Non-trainable params: 0\n",
            "_________________________________________________________________\n"
          ]
        }
      ],
      "source": [
        "model.summary()"
      ]
    },
    {
      "cell_type": "code",
      "execution_count": 21,
      "metadata": {
        "execution": {
          "iopub.execute_input": "2022-09-03T14:20:09.266374Z",
          "iopub.status.busy": "2022-09-03T14:20:09.266058Z",
          "iopub.status.idle": "2022-09-03T14:20:09.272512Z",
          "shell.execute_reply": "2022-09-03T14:20:09.271744Z",
          "shell.execute_reply.started": "2022-09-03T14:20:09.266345Z"
        },
        "id": "whI_sq_1uQt4",
        "trusted": true
      },
      "outputs": [],
      "source": [
        "os.environ[\"CUDA_VISIBLE_DEVICES\"]=\"0\""
      ]
    },
    {
      "cell_type": "code",
      "execution_count": 22,
      "metadata": {
        "execution": {
          "iopub.execute_input": "2022-09-03T14:20:31.887376Z",
          "iopub.status.busy": "2022-09-03T14:20:31.887064Z",
          "iopub.status.idle": "2022-09-03T14:20:31.894791Z",
          "shell.execute_reply": "2022-09-03T14:20:31.894059Z",
          "shell.execute_reply.started": "2022-09-03T14:20:31.887347Z"
        },
        "id": "7Q_Fo2LOBrld",
        "trusted": true
      },
      "outputs": [],
      "source": [
        "from keras.callbacks import Callback, EarlyStopping, ReduceLROnPlateau, ModelCheckpoint\n",
        "checkpoint = ModelCheckpoint(filepath='best_weights.hdf5', save_best_only=True, save_weights_only=True)\n",
        "lr_reduce = ReduceLROnPlateau(monitor='val_loss', factor=0.3, patience=2, verbose=2, mode='max')"
      ]
    },
    {
      "cell_type": "code",
      "execution_count": 23,
      "metadata": {
        "colab": {
          "base_uri": "https://localhost:8080/"
        },
        "execution": {
          "iopub.execute_input": "2022-09-03T14:21:13.560668Z",
          "iopub.status.busy": "2022-09-03T14:21:13.560338Z",
          "iopub.status.idle": "2022-09-03T15:12:32.609513Z",
          "shell.execute_reply": "2022-09-03T15:12:32.608700Z",
          "shell.execute_reply.started": "2022-09-03T14:21:13.560637Z"
        },
        "id": "QY9DvWaFFm6i",
        "outputId": "87cb03f4-f40f-4b28-97e9-444b43ea9b9c",
        "trusted": true
      },
      "outputs": [
        {
          "output_type": "stream",
          "name": "stdout",
          "text": [
            "Epoch 1/30\n",
            "98/98 [==============================] - 15s 79ms/step - loss: 0.7816 - accuracy: 0.5256 - val_loss: 0.6853 - val_accuracy: 0.5217 - lr: 0.0010\n",
            "Epoch 2/30\n",
            "98/98 [==============================] - 6s 63ms/step - loss: 0.6332 - accuracy: 0.6346 - val_loss: 0.6296 - val_accuracy: 0.6069 - lr: 0.0010\n",
            "Epoch 3/30\n",
            "97/98 [============================>.] - ETA: 0s - loss: 0.6350 - accuracy: 0.6282\n",
            "Epoch 3: ReduceLROnPlateau reducing learning rate to 0.0003000000142492354.\n",
            "98/98 [==============================] - 6s 63ms/step - loss: 0.6342 - accuracy: 0.6295 - val_loss: 0.6224 - val_accuracy: 0.6667 - lr: 0.0010\n",
            "Epoch 4/30\n",
            "98/98 [==============================] - 6s 64ms/step - loss: 0.5628 - accuracy: 0.7077 - val_loss: 0.5362 - val_accuracy: 0.7399 - lr: 3.0000e-04\n",
            "Epoch 5/30\n",
            "97/98 [============================>.] - ETA: 0s - loss: 0.5443 - accuracy: 0.7197\n",
            "Epoch 5: ReduceLROnPlateau reducing learning rate to 9.000000427477062e-05.\n",
            "98/98 [==============================] - 6s 65ms/step - loss: 0.5439 - accuracy: 0.7199 - val_loss: 0.5263 - val_accuracy: 0.7534 - lr: 3.0000e-04\n",
            "Epoch 6/30\n",
            "98/98 [==============================] - 6s 64ms/step - loss: 0.5263 - accuracy: 0.7397 - val_loss: 0.5238 - val_accuracy: 0.7549 - lr: 9.0000e-05\n",
            "Epoch 7/30\n",
            "97/98 [============================>.] - ETA: 0s - loss: 0.5140 - accuracy: 0.7500\n",
            "Epoch 7: ReduceLROnPlateau reducing learning rate to 2.700000040931627e-05.\n",
            "98/98 [==============================] - 6s 65ms/step - loss: 0.5122 - accuracy: 0.7513 - val_loss: 0.5141 - val_accuracy: 0.7489 - lr: 9.0000e-05\n",
            "Epoch 8/30\n",
            "98/98 [==============================] - 6s 64ms/step - loss: 0.4995 - accuracy: 0.7609 - val_loss: 0.5078 - val_accuracy: 0.7504 - lr: 2.7000e-05\n",
            "Epoch 9/30\n",
            "97/98 [============================>.] - ETA: 0s - loss: 0.4933 - accuracy: 0.7564\n",
            "Epoch 9: ReduceLROnPlateau reducing learning rate to 8.100000013655517e-06.\n",
            "98/98 [==============================] - 6s 65ms/step - loss: 0.4939 - accuracy: 0.7571 - val_loss: 0.5039 - val_accuracy: 0.7549 - lr: 2.7000e-05\n",
            "Epoch 10/30\n",
            "98/98 [==============================] - 6s 65ms/step - loss: 0.4889 - accuracy: 0.7558 - val_loss: 0.5040 - val_accuracy: 0.7564 - lr: 8.1000e-06\n",
            "Epoch 11/30\n",
            "97/98 [============================>.] - ETA: 0s - loss: 0.4890 - accuracy: 0.7674\n",
            "Epoch 11: ReduceLROnPlateau reducing learning rate to 2.429999949526973e-06.\n",
            "98/98 [==============================] - 7s 67ms/step - loss: 0.4881 - accuracy: 0.7679 - val_loss: 0.5029 - val_accuracy: 0.7564 - lr: 8.1000e-06\n",
            "Epoch 12/30\n",
            "98/98 [==============================] - 6s 65ms/step - loss: 0.4815 - accuracy: 0.7673 - val_loss: 0.5024 - val_accuracy: 0.7549 - lr: 2.4300e-06\n",
            "Epoch 13/30\n",
            "97/98 [============================>.] - ETA: 0s - loss: 0.4867 - accuracy: 0.7648\n",
            "Epoch 13: ReduceLROnPlateau reducing learning rate to 7.289999985005124e-07.\n",
            "98/98 [==============================] - 6s 65ms/step - loss: 0.4866 - accuracy: 0.7647 - val_loss: 0.5020 - val_accuracy: 0.7564 - lr: 2.4300e-06\n",
            "Epoch 14/30\n",
            "98/98 [==============================] - 6s 65ms/step - loss: 0.4787 - accuracy: 0.7628 - val_loss: 0.5020 - val_accuracy: 0.7564 - lr: 7.2900e-07\n",
            "Epoch 15/30\n",
            "97/98 [============================>.] - ETA: 0s - loss: 0.4841 - accuracy: 0.7532\n",
            "Epoch 15: ReduceLROnPlateau reducing learning rate to 2.1870000637136398e-07.\n",
            "98/98 [==============================] - 6s 65ms/step - loss: 0.4848 - accuracy: 0.7526 - val_loss: 0.5019 - val_accuracy: 0.7564 - lr: 7.2900e-07\n",
            "Epoch 16/30\n",
            "98/98 [==============================] - 6s 65ms/step - loss: 0.4845 - accuracy: 0.7583 - val_loss: 0.5019 - val_accuracy: 0.7564 - lr: 2.1870e-07\n",
            "Epoch 17/30\n",
            "97/98 [============================>.] - ETA: 0s - loss: 0.4834 - accuracy: 0.7571\n",
            "Epoch 17: ReduceLROnPlateau reducing learning rate to 6.561000276406048e-08.\n",
            "98/98 [==============================] - 6s 66ms/step - loss: 0.4839 - accuracy: 0.7571 - val_loss: 0.5019 - val_accuracy: 0.7564 - lr: 2.1870e-07\n",
            "Epoch 18/30\n",
            "98/98 [==============================] - 6s 66ms/step - loss: 0.4826 - accuracy: 0.7647 - val_loss: 0.5019 - val_accuracy: 0.7564 - lr: 6.5610e-08\n",
            "Epoch 19/30\n",
            "97/98 [============================>.] - ETA: 0s - loss: 0.4789 - accuracy: 0.7713\n",
            "Epoch 19: ReduceLROnPlateau reducing learning rate to 1.9683000829218145e-08.\n",
            "98/98 [==============================] - 6s 66ms/step - loss: 0.4785 - accuracy: 0.7712 - val_loss: 0.5018 - val_accuracy: 0.7564 - lr: 6.5610e-08\n",
            "Epoch 20/30\n",
            "98/98 [==============================] - 7s 67ms/step - loss: 0.4861 - accuracy: 0.7622 - val_loss: 0.5018 - val_accuracy: 0.7564 - lr: 1.9683e-08\n",
            "Epoch 21/30\n",
            "97/98 [============================>.] - ETA: 0s - loss: 0.4853 - accuracy: 0.7622\n",
            "Epoch 21: ReduceLROnPlateau reducing learning rate to 5.904900035602622e-09.\n",
            "98/98 [==============================] - 7s 68ms/step - loss: 0.4849 - accuracy: 0.7628 - val_loss: 0.5018 - val_accuracy: 0.7564 - lr: 1.9683e-08\n",
            "Epoch 22/30\n",
            "98/98 [==============================] - 7s 67ms/step - loss: 0.4819 - accuracy: 0.7615 - val_loss: 0.5018 - val_accuracy: 0.7564 - lr: 5.9049e-09\n",
            "Epoch 23/30\n",
            "97/98 [============================>.] - ETA: 0s - loss: 0.4889 - accuracy: 0.7571\n",
            "Epoch 23: ReduceLROnPlateau reducing learning rate to 1.7714700373261393e-09.\n",
            "98/98 [==============================] - 7s 68ms/step - loss: 0.4895 - accuracy: 0.7577 - val_loss: 0.5018 - val_accuracy: 0.7564 - lr: 5.9049e-09\n",
            "Epoch 24/30\n",
            "98/98 [==============================] - 7s 68ms/step - loss: 0.4901 - accuracy: 0.7622 - val_loss: 0.5018 - val_accuracy: 0.7564 - lr: 1.7715e-09\n",
            "Epoch 25/30\n",
            "97/98 [============================>.] - ETA: 0s - loss: 0.4820 - accuracy: 0.7700\n",
            "Epoch 25: ReduceLROnPlateau reducing learning rate to 5.314410245205181e-10.\n",
            "98/98 [==============================] - 7s 68ms/step - loss: 0.4821 - accuracy: 0.7699 - val_loss: 0.5018 - val_accuracy: 0.7564 - lr: 1.7715e-09\n",
            "Epoch 26/30\n",
            "98/98 [==============================] - 7s 68ms/step - loss: 0.4781 - accuracy: 0.7712 - val_loss: 0.5018 - val_accuracy: 0.7564 - lr: 5.3144e-10\n",
            "Epoch 27/30\n",
            "97/98 [============================>.] - ETA: 0s - loss: 0.4839 - accuracy: 0.7674\n",
            "Epoch 27: ReduceLROnPlateau reducing learning rate to 1.5943230069481729e-10.\n",
            "98/98 [==============================] - 7s 67ms/step - loss: 0.4832 - accuracy: 0.7679 - val_loss: 0.5018 - val_accuracy: 0.7564 - lr: 5.3144e-10\n",
            "Epoch 28/30\n",
            "98/98 [==============================] - 7s 67ms/step - loss: 0.4772 - accuracy: 0.7718 - val_loss: 0.5018 - val_accuracy: 0.7564 - lr: 1.5943e-10\n",
            "Epoch 29/30\n",
            "97/98 [============================>.] - ETA: 0s - loss: 0.4818 - accuracy: 0.7687\n",
            "Epoch 29: ReduceLROnPlateau reducing learning rate to 4.7829690208445185e-11.\n",
            "98/98 [==============================] - 7s 67ms/step - loss: 0.4819 - accuracy: 0.7686 - val_loss: 0.5018 - val_accuracy: 0.7564 - lr: 1.5943e-10\n",
            "Epoch 30/30\n",
            "98/98 [==============================] - 7s 66ms/step - loss: 0.4872 - accuracy: 0.7583 - val_loss: 0.5018 - val_accuracy: 0.7564 - lr: 4.7830e-11\n"
          ]
        }
      ],
      "source": [
        "history = model.fit(x_train,y_train,epochs=30 ,validation_data =(x_test,y_test) ,batch_size=16,\n",
        "                    shuffle=True,\n",
        "                    max_queue_size=20,\n",
        "                    use_multiprocessing=True,\n",
        "                    workers=1,\n",
        "                    callbacks=[checkpoint, lr_reduce])"
      ]
    },
    {
      "cell_type": "code",
      "source": [
        "print(\"model training is complete\")"
      ],
      "metadata": {
        "colab": {
          "base_uri": "https://localhost:8080/"
        },
        "id": "IygiU0PkIM8v",
        "outputId": "bb3211a1-6ef8-454f-a5a4-b0f66ea593b0"
      },
      "execution_count": 24,
      "outputs": [
        {
          "output_type": "stream",
          "name": "stdout",
          "text": [
            "model training is complete\n"
          ]
        }
      ]
    },
    {
      "cell_type": "code",
      "execution_count": 25,
      "metadata": {
        "colab": {
          "base_uri": "https://localhost:8080/",
          "height": 573
        },
        "execution": {
          "iopub.execute_input": "2022-09-03T15:16:47.784958Z",
          "iopub.status.busy": "2022-09-03T15:16:47.784624Z",
          "iopub.status.idle": "2022-09-03T15:16:48.058011Z",
          "shell.execute_reply": "2022-09-03T15:16:48.057133Z",
          "shell.execute_reply.started": "2022-09-03T15:16:47.784928Z"
        },
        "id": "l7UURWLipLNu",
        "outputId": "05f33d42-58f7-49ae-a41e-47e45a0760f6",
        "trusted": true
      },
      "outputs": [
        {
          "output_type": "display_data",
          "data": {
            "text/plain": [
              "<Figure size 432x288 with 1 Axes>"
            ],
            "image/png": "[encoded data removed]"
          },
          "metadata": {
            "needs_background": "light"
          }
        },
        {
          "output_type": "display_data",
          "data": {
            "text/plain": [
              "<Figure size 432x288 with 1 Axes>"
            ],
            "image/png": "[encoded data removed]"
          },
          "metadata": {
            "needs_background": "light"
          }
        }
      ],
      "source": [
        "plt.figure(1)\n",
        "plt.plot(history.history['loss'])\n",
        "plt.plot(history.history['val_loss'])\n",
        "plt.legend(['training','validation'])\n",
        "plt.title('Loss')\n",
        "plt.xlabel('epoch')\n",
        "plt.figure(2)\n",
        "plt.plot(history.history['accuracy'])\n",
        "plt.plot(history.history['val_accuracy'])\n",
        "plt.legend(['training','validation'])\n",
        "plt.title('Accuracy')\n",
        "plt.xlabel('epoch')\n",
        "plt.show()"
      ]
    },
    {
      "cell_type": "code",
      "execution_count": 26,
      "metadata": {
        "colab": {
          "base_uri": "https://localhost:8080/"
        },
        "execution": {
          "iopub.execute_input": "2022-09-03T15:17:12.345222Z",
          "iopub.status.busy": "2022-09-03T15:17:12.344894Z",
          "iopub.status.idle": "2022-09-03T15:17:12.947693Z",
          "shell.execute_reply": "2022-09-03T15:17:12.946706Z",
          "shell.execute_reply.started": "2022-09-03T15:17:12.345193Z"
        },
        "id": "FLM0qqM0qIXr",
        "outputId": "bb544c50-6fdf-408b-9d02-8d704cd9b594",
        "trusted": true
      },
      "outputs": [
        {
          "output_type": "stream",
          "name": "stdout",
          "text": [
            "Test Score =  0.3953252136707306\n",
            "Test Accuracy =  0.8095238208770752\n"
          ]
        }
      ],
      "source": [
        "score = model.evaluate(x_validation,y_validation,verbose=0)\n",
        "print('Test Score = ',score[0])\n",
        "print('Test Accuracy = ',score[1])"
      ]
    },
    {
      "cell_type": "code",
      "execution_count": 27,
      "metadata": {
        "execution": {
          "iopub.execute_input": "2022-09-03T15:30:10.301890Z",
          "iopub.status.busy": "2022-09-03T15:30:10.301551Z",
          "iopub.status.idle": "2022-09-03T15:30:10.798335Z",
          "shell.execute_reply": "2022-09-03T15:30:10.797552Z",
          "shell.execute_reply.started": "2022-09-03T15:30:10.301862Z"
        },
        "id": "Wt6H_8IpBrle",
        "trusted": true
      },
      "outputs": [],
      "source": [
        "y_pred = model.predict(x_validation)\n",
        "y_pred = tf.argmax(y_pred, axis = 1)\n",
        "y_validation = tf.argmax(y_validation, axis = 1)"
      ]
    },
    {
      "cell_type": "code",
      "execution_count": 30,
      "metadata": {
        "colab": {
          "base_uri": "https://localhost:8080/",
          "height": 638
        },
        "execution": {
          "iopub.execute_input": "2022-09-03T15:33:31.618073Z",
          "iopub.status.busy": "2022-09-03T15:33:31.617757Z",
          "iopub.status.idle": "2022-09-03T15:33:31.808220Z",
          "shell.execute_reply": "2022-09-03T15:33:31.807392Z",
          "shell.execute_reply.started": "2022-09-03T15:33:31.618045Z"
        },
        "id": "KKBwUpogBrlf",
        "outputId": "e16d361a-4be5-4ad8-e62f-eb757a2e9fff",
        "trusted": true
      },
      "outputs": [
        {
          "output_type": "execute_result",
          "data": {
            "text/plain": [
              "Text(0.5, 1.0, 'Confusion Matrix')"
            ]
          },
          "metadata": {},
          "execution_count": 30
        },
        {
          "output_type": "display_data",
          "data": {
            "text/plain": [
              "<Figure size 720x720 with 2 Axes>"
            ],
            "image/png": "[encoded data removed]"
          },
          "metadata": {
            "needs_background": "light"
          }
        }
      ],
      "source": [
        "from sklearn.metrics import confusion_matrix\n",
        "import matplotlib.pyplot as plt     \n",
        "import seaborn as sns\n",
        "\n",
        "cm = confusion_matrix(y_validation, y_pred)\n",
        "plt.figure(figsize=(10,10))\n",
        "sns.heatmap(cm, annot=True, fmt='g')\n",
        "\n",
        "plt.xlabel('Predicted labels')\n",
        "plt.ylabel('True labels')\n",
        "plt.title('Confusion Matrix')"
      ]
    },
    {
      "cell_type": "code",
      "execution_count": 29,
      "metadata": {
        "execution": {
          "iopub.execute_input": "2022-09-03T15:34:16.738271Z",
          "iopub.status.busy": "2022-09-03T15:34:16.737921Z",
          "iopub.status.idle": "2022-09-03T15:34:16.873261Z",
          "shell.execute_reply": "2022-09-03T15:34:16.872474Z",
          "shell.execute_reply.started": "2022-09-03T15:34:16.738239Z"
        },
        "id": "W2jsX4DLqtjN",
        "trusted": true
      },
      "outputs": [],
      "source": [
        "model.save('model2_50epochs.hd5')"
      ]
    },
    {
      "cell_type": "code",
      "execution_count": 29,
      "metadata": {
        "id": "0HZJuqHbBrlf"
      },
      "outputs": [],
      "source": []
    }
  ],
  "metadata": {
    "accelerator": "GPU",
    "colab": {
      "collapsed_sections": [],
      "provenance": []
    },
    "gpuClass": "standard",
    "kernelspec": {
      "display_name": "Python 3",
      "language": "python",
      "name": "python3"
    },
    "language_info": {
      "codemirror_mode": {
        "name": "ipython",
        "version": 3
      },
      "file_extension": ".py",
      "mimetype": "text/x-python",
      "name": "python",
      "nbconvert_exporter": "python",
      "pygments_lexer": "ipython3",
      "version": "3.7.6"
    }
  },
  "nbformat": 4,
  "nbformat_minor": 0
}